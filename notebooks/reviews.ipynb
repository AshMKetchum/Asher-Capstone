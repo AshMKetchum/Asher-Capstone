{
 "cells": [
  {
   "cell_type": "code",
   "execution_count": 38,
   "id": "6fef0f99-adbe-4dbe-b2d4-ee293d1ca694",
   "metadata": {},
   "outputs": [],
   "source": [
    "import requests\n",
    "import matplotlib.pyplot as plt\n",
    "import pandas as pd\n",
    "import numpy as np\n",
    "from bs4 import BeautifulSoup as BS\n",
    "import time"
   ]
  },
  {
   "cell_type": "code",
   "execution_count": 8,
   "id": "495630ca-e7d3-4f47-8d57-cfc5d47e21af",
   "metadata": {},
   "outputs": [],
   "source": [
    "key='d0882ea7c5df3b123a9450d91929525f23bfa3ad'\n",
    "headers={'User-Agent':'AsherKetchums Video Game Analysis Project'}\n",
    "offset = 0\n",
    "\n",
    "def print_refresh(string):\n",
    "    print(string,\n",
    "          '\\t\\t\\t\\t\\t\\t\\t\\t\\t\\t\\t\\t',\n",
    "          end='\\r',\n",
    "          flush = True\n",
    "         )\n",
    "    \n",
    "def pause_update(n):\n",
    "    for i in range(n):\n",
    "        print_refresh(f'Waiting {n} seconds: {n-i} seconds remaining')\n",
    "        time.sleep(1)\n",
    "    print(f'Finished with {n} second wait')"
   ]
  },
  {
   "cell_type": "code",
   "execution_count": 3,
   "id": "0babace8-4a59-4c9a-a1fe-394d5367dcc0",
   "metadata": {},
   "outputs": [
    {
     "name": "stderr",
     "output_type": "stream",
     "text": [
      "C:\\Users\\asher\\AppData\\Local\\Temp\\ipykernel_33136\\3940341832.py:1: DtypeWarning: Columns (42) have mixed types. Specify dtype option on import or set low_memory=False.\n",
      "  games_df=pd.read_csv('../data/games_df.csv')\n"
     ]
    }
   ],
   "source": [
    "games_df=pd.read_csv('../data/games_df.csv')"
   ]
  },
  {
   "cell_type": "code",
   "execution_count": 29,
   "id": "d451f626-144d-4604-9ab0-924663028e06",
   "metadata": {},
   "outputs": [],
   "source": [
    "game_names=games_df['game_name'].unique()"
   ]
  },
  {
   "cell_type": "code",
   "execution_count": 32,
   "id": "012877d9-6463-4125-bb46-623a38fdfe1c",
   "metadata": {},
   "outputs": [],
   "source": [
    "game_names=pd.DataFrame(game_names)\n",
    "game_names_list=game_ids[0].tolist()\n",
    "game_names_list=game_names_list[0:2]"
   ]
  },
  {
   "cell_type": "code",
   "execution_count": 33,
   "id": "ccd2c872-6e51-4fa9-b8e8-f1ebe7c07478",
   "metadata": {},
   "outputs": [
    {
     "data": {
      "text/plain": [
       "2"
      ]
     },
     "execution_count": 33,
     "metadata": {},
     "output_type": "execute_result"
    }
   ],
   "source": [
    "len(game_names_list)"
   ]
  },
  {
   "cell_type": "code",
   "execution_count": 4,
   "id": "92c73637-d2f7-4598-a3c8-924d67811585",
   "metadata": {},
   "outputs": [],
   "source": [
    "game_ids=games_df['game_id'].unique()"
   ]
  },
  {
   "cell_type": "code",
   "execution_count": 6,
   "id": "e1296eb7-567c-4d3f-8828-a377eb5af221",
   "metadata": {},
   "outputs": [],
   "source": [
    "game_ids=pd.DataFrame(game_ids)\n",
    "game_ids_list=game_ids[0].tolist()"
   ]
  },
  {
   "cell_type": "code",
   "execution_count": 15,
   "id": "9065f268-4138-40d0-9ad8-a88ee7b495f5",
   "metadata": {},
   "outputs": [
    {
     "data": {
      "text/plain": [
       "2"
      ]
     },
     "execution_count": 15,
     "metadata": {},
     "output_type": "execute_result"
    }
   ],
   "source": [
    "game_ids_list=game_ids_list[0:2]\n",
    "len(game_ids_list)"
   ]
  },
  {
   "cell_type": "code",
   "execution_count": 36,
   "id": "842da76e-53e8-4721-a01b-1c47e1ee2d42",
   "metadata": {},
   "outputs": [],
   "source": [
    "reviews_url = 'https://www.giantbomb.com/api/reviews/'\n",
    "reviews = []\n",
    "fifty = 50\n",
    "offset = 0\n",
    "\n",
    "for names in game_ids_list:\n",
    "    offset=0\n",
    "\n",
    "    params = {\n",
    "        'api_key': key,\n",
    "        'format': 'json',\n",
    "        'field_list': 'game,id,publish_date,release,reviewer,score',\n",
    "        'filter': f'game:{names}',\n",
    "        'offset': offset,\n",
    "        'limit': 50\n",
    "    }\n",
    "\n",
    "    try:\n",
    "        response = requests.get(reviews_url,params=params,headers=headers,timeout=30)\n",
    "    except (requests.exceptions.ReadTimeout, requests.exceptions.ConnectionError) as re:\n",
    "        print(f'Network Error:{re} damn')\n",
    "        pause_update(600)\n",
    "        continue\n",
    "\n",
    "    if response.status_code == 204:\n",
    "        print('2 0 not 4 sure if this is necessary')\n",
    "        pause_update(600)\n",
    "        continue\n",
    "\n",
    "    if response.status_code == 420:\n",
    "        print('420 and chill bruh')\n",
    "        pause_update(600)\n",
    "        continue\n",
    "\n",
    "    if response.status_code == 503:\n",
    "        print('server overload (503)')\n",
    "        pause_update(60)\n",
    "        continue\n",
    "\n",
    "    if response.status_code == 502:\n",
    "        print('server overload (502)')\n",
    "        pause_update(60)\n",
    "        continue\n",
    "            \n",
    "    response.raise_for_status()\n",
    "\n",
    "    try:\n",
    "        res = response.json()\n",
    "    except ValueError:\n",
    "        print('JSON decode error, sleeping...')\n",
    "        time.sleep(600)\n",
    "        continue\n",
    "\n",
    "    results = res.get('results', [])\n",
    "        \n",
    "    reviews.extend(results)\n",
    "    offset += 50\n",
    "    time.sleep(15)"
   ]
  },
  {
   "cell_type": "code",
   "execution_count": 37,
   "id": "5ba240c4-0952-497d-b78f-545e8121d5c0",
   "metadata": {},
   "outputs": [
    {
     "data": {
      "text/plain": [
       "[]"
      ]
     },
     "execution_count": 37,
     "metadata": {},
     "output_type": "execute_result"
    }
   ],
   "source": [
    "reviews"
   ]
  },
  {
   "cell_type": "code",
   "execution_count": null,
   "id": "3d892921-056e-4e3b-bad7-862ae723415a",
   "metadata": {},
   "outputs": [],
   "source": []
  }
 ],
 "metadata": {
  "kernelspec": {
   "display_name": "Python [conda env:base] *",
   "language": "python",
   "name": "conda-base-py"
  },
  "language_info": {
   "codemirror_mode": {
    "name": "ipython",
    "version": 3
   },
   "file_extension": ".py",
   "mimetype": "text/x-python",
   "name": "python",
   "nbconvert_exporter": "python",
   "pygments_lexer": "ipython3",
   "version": "3.13.5"
  }
 },
 "nbformat": 4,
 "nbformat_minor": 5
}
