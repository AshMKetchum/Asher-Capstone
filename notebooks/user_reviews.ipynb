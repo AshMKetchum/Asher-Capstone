{
 "cells": [
  {
   "cell_type": "code",
   "execution_count": 1,
   "id": "6fef0f99-adbe-4dbe-b2d4-ee293d1ca694",
   "metadata": {},
   "outputs": [],
   "source": [
    "import requests\n",
    "import matplotlib.pyplot as plt\n",
    "import pandas as pd\n",
    "import numpy as np\n",
    "from bs4 import BeautifulSoup as BS\n",
    "import time"
   ]
  },
  {
   "cell_type": "code",
   "execution_count": 2,
   "id": "495630ca-e7d3-4f47-8d57-cfc5d47e21af",
   "metadata": {},
   "outputs": [],
   "source": [
    "key='d0882ea7c5df3b123a9450d91929525f23bfa3ad'\n",
    "headers={'User-Agent':'AsherKetchums Video Game Analysis Project'}\n",
    "offset = 0\n",
    "\n",
    "def print_refresh(string):\n",
    "    print(string,\n",
    "          '\\t\\t\\t\\t\\t\\t\\t\\t\\t\\t\\t\\t',\n",
    "          end='\\r',\n",
    "          flush = True\n",
    "         )\n",
    "    \n",
    "def pause_update(n):\n",
    "    for i in range(n):\n",
    "        print_refresh(f'Waiting {n} seconds: {n-i} seconds remaining')\n",
    "        time.sleep(1)\n",
    "    print(f'Finished with {n} second wait')"
   ]
  },
  {
   "cell_type": "code",
   "execution_count": 3,
   "id": "0babace8-4a59-4c9a-a1fe-394d5367dcc0",
   "metadata": {},
   "outputs": [
    {
     "name": "stderr",
     "output_type": "stream",
     "text": [
      "C:\\Users\\asher\\AppData\\Local\\Temp\\ipykernel_57364\\3940341832.py:1: DtypeWarning: Columns (42) have mixed types. Specify dtype option on import or set low_memory=False.\n",
      "  games_df=pd.read_csv('../data/games_df.csv')\n"
     ]
    }
   ],
   "source": [
    "games_df=pd.read_csv('../data/games_df.csv')"
   ]
  },
  {
   "cell_type": "code",
   "execution_count": 4,
   "id": "92c73637-d2f7-4598-a3c8-924d67811585",
   "metadata": {},
   "outputs": [],
   "source": [
    "game_ids=games_df['game_id'].unique()"
   ]
  },
  {
   "cell_type": "code",
   "execution_count": 5,
   "id": "da48e262-8885-416b-88c7-5d92cbdcdf19",
   "metadata": {},
   "outputs": [],
   "source": [
    "game_ids_list=games_df['game_id'].tolist()"
   ]
  },
  {
   "cell_type": "code",
   "execution_count": 6,
   "id": "e1296eb7-567c-4d3f-8828-a377eb5af221",
   "metadata": {},
   "outputs": [],
   "source": [
    "game_ids=pd.DataFrame(game_ids)\n",
    "game_ids_list=game_ids[0].tolist()"
   ]
  },
  {
   "cell_type": "code",
   "execution_count": 17,
   "id": "d35ca498-a8c2-4e40-91b3-0b7063f56332",
   "metadata": {},
   "outputs": [],
   "source": [
    "game_ids_list=game_ids_list[0:2]"
   ]
  },
  {
   "cell_type": "code",
   "execution_count": 18,
   "id": "842da76e-53e8-4721-a01b-1c47e1ee2d42",
   "metadata": {},
   "outputs": [
    {
     "name": "stdout",
     "output_type": "stream",
     "text": [
      "{\n",
      "  \"error\": \"OK\",\n",
      "  \"limit\": 50,\n",
      "  \"offset\": 0,\n",
      "  \"number_of_page_results\": 0,\n",
      "  \"number_of_total_results\": 0,\n",
      "  \"status_code\": 1,\n",
      "  \"results\": [],\n",
      "  \"version\": \"1.0\"\n",
      "}\n"
     ]
    }
   ],
   "source": [
    "user_reviews_url = 'https://www.giantbomb.com/api/user_reviews/'\n",
    "user_reviews = []\n",
    "fifty = 50\n",
    "offset = 0\n",
    "\n",
    "for i in range(0, len(game_ids_list), fifty):\n",
    "    batch_ids = game_ids_list[i:i+fifty]\n",
    "    filters = ','.join([f'game:3030-{batch}' for batch in batch_ids])\n",
    "    offset = 0\n",
    "\n",
    "    while True:\n",
    "        time.sleep(15)\n",
    "\n",
    "        params = {\n",
    "            'api_key': key,\n",
    "            'format': 'json',\n",
    "            'field_list':'game,release,id,reviewer,score',\n",
    "            'filter': filters,\n",
    "            'offset': offset,\n",
    "            'limit': 50\n",
    "        }\n",
    "\n",
    "        try:\n",
    "             response = requests.get(user_reviews_url,params=params,headers=headers,timeout=30)\n",
    "        except (requests.exceptions.ReadTimeout, requests.exceptions.ConnectionError) as re:\n",
    "            print(f'Network Error:{re} damn')\n",
    "            pause_update(600)\n",
    "            continue\n",
    "\n",
    "        if response.status_code == 204:\n",
    "            print('2 0 not 4 sure if this is necessary')\n",
    "            pause_update(600)\n",
    "            continue\n",
    "\n",
    "        if response.status_code == 420:\n",
    "            print('420 and chill bruh')\n",
    "            pause_update(600)\n",
    "            continue\n",
    "\n",
    "        if response.status_code == 503:\n",
    "            print('server overload (503)')\n",
    "            pause_update(60)\n",
    "            continue\n",
    "\n",
    "        response.raise_for_status()\n",
    "\n",
    "        try:\n",
    "            res = response.json()\n",
    "        except ValueError:\n",
    "            print('JSON decode error, sleeping...')\n",
    "            time.sleep(600)\n",
    "            continue\n",
    "\n",
    "        results = res.get('results', [])\n",
    "        if not results:\n",
    "            print(json.dumps(res, indent=2))\n",
    "            break\n",
    "\n",
    "        user_reviews.extend(results)\n",
    "        offset += 50"
   ]
  },
  {
   "cell_type": "code",
   "execution_count": 19,
   "id": "5ba240c4-0952-497d-b78f-545e8121d5c0",
   "metadata": {},
   "outputs": [
    {
     "data": {
      "text/plain": [
       "[]"
      ]
     },
     "execution_count": 19,
     "metadata": {},
     "output_type": "execute_result"
    }
   ],
   "source": [
    "user_reviews"
   ]
  },
  {
   "cell_type": "code",
   "execution_count": null,
   "id": "1c829929-c8c1-4d95-9e17-4bf498a3ca3f",
   "metadata": {},
   "outputs": [],
   "source": []
  }
 ],
 "metadata": {
  "kernelspec": {
   "display_name": "Python [conda env:base] *",
   "language": "python",
   "name": "conda-base-py"
  },
  "language_info": {
   "codemirror_mode": {
    "name": "ipython",
    "version": 3
   },
   "file_extension": ".py",
   "mimetype": "text/x-python",
   "name": "python",
   "nbconvert_exporter": "python",
   "pygments_lexer": "ipython3",
   "version": "3.13.5"
  }
 },
 "nbformat": 4,
 "nbformat_minor": 5
}
